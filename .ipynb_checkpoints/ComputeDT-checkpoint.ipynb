{
 "cells": [
  {
   "cell_type": "code",
   "execution_count": 1,
   "metadata": {},
   "outputs": [],
   "source": [
    "# -*- coding: utf8\n",
    "\n",
    "import sys\n",
    "sys.path.append('../code/')"
   ]
  },
  {
   "cell_type": "code",
   "execution_count": 2,
   "metadata": {},
   "outputs": [],
   "source": [
    "from amutils import build_graph\n",
    "from amutils import build_reverse_index\n",
    "from amutils import load_am_json_data\n",
    "\n",
    "from deep_features import features_and_pairwise\n",
    "\n",
    "import numpy as np\n",
    "import pandas as pd"
   ]
  },
  {
   "cell_type": "code",
   "execution_count": 3,
   "metadata": {},
   "outputs": [],
   "source": [
    "json_data = load_am_json_data()\n",
    "feats_df, names_df, S = features_and_pairwise()"
   ]
  },
  {
   "cell_type": "code",
   "execution_count": 4,
   "metadata": {},
   "outputs": [],
   "source": [
    "df = pd.read_csv('../data/billboard-weekly.csv')\n",
    "df['WeekID'] = pd.to_datetime(df['WeekID'])\n",
    "df = df.set_index('WeekID')"
   ]
  },
  {
   "cell_type": "code",
   "execution_count": 5,
   "metadata": {},
   "outputs": [],
   "source": [
    "df = df.iloc[df.index.argsort()]"
   ]
  },
  {
   "cell_type": "code",
   "execution_count": 7,
   "metadata": {},
   "outputs": [],
   "source": [
    "song2spot = {}\n",
    "for spotify_id, track, artist in names_df.values:\n",
    "    key = (artist, track)\n",
    "    song2spot[key] = spotify_id"
   ]
  },
  {
   "cell_type": "code",
   "execution_count": 8,
   "metadata": {},
   "outputs": [],
   "source": [
    "relative_location = {}\n",
    "for date, row in df.iterrows():\n",
    "    key = (row['Performer'], row['Song'])\n",
    "    if key in song2spot:\n",
    "        spotify_id = song2spot[key]\n",
    "        if spotify_id not in relative_location:\n",
    "            relative_location[spotify_id] = date.timestamp()"
   ]
  },
  {
   "cell_type": "code",
   "execution_count": 9,
   "metadata": {},
   "outputs": [],
   "source": [
    "DT = np.zeros(shape=(len(relative_location), len(relative_location)))\n",
    "index = []\n",
    "ij = {}\n",
    "for i, key in enumerate(sorted(relative_location)):\n",
    "    index.append(key)\n",
    "    ij[key] = i\n",
    "\n",
    "from itertools import product\n",
    "order = list(sorted(relative_location))\n",
    "k = 0\n",
    "for row, col in product(order, repeat=2):\n",
    "    i = ij[row]\n",
    "    j = ij[col]\n",
    "    if relative_location[row] > relative_location[col]:\n",
    "        DT[i, j] = relative_location[row] - relative_location[col]\n",
    "    else:\n",
    "        DT[j, i] = relative_location[col] - relative_location[row]\n",
    "DT = pd.DataFrame(DT, index=index, columns=index)"
   ]
  },
  {
   "cell_type": "code",
   "execution_count": 10,
   "metadata": {},
   "outputs": [],
   "source": [
    "store = pd.HDFStore('../cache/dt_matrices.h5', 'w')\n",
    "store['song_dt'] = DT\n",
    "store.close()"
   ]
  }
 ],
 "metadata": {
  "kernelspec": {
   "display_name": "Python 3",
   "language": "python",
   "name": "python3"
  },
  "language_info": {
   "codemirror_mode": {
    "name": "ipython",
    "version": 3
   },
   "file_extension": ".py",
   "mimetype": "text/x-python",
   "name": "python",
   "nbconvert_exporter": "python",
   "pygments_lexer": "ipython3",
   "version": "3.6.8"
  }
 },
 "nbformat": 4,
 "nbformat_minor": 2
}
