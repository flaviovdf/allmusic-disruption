{
 "cells": [
  {
   "cell_type": "code",
   "execution_count": 1,
   "metadata": {},
   "outputs": [],
   "source": [
    "# -*- coding: utf8\n",
    "\n",
    "import sys\n",
    "sys.path.append('../code/')"
   ]
  },
  {
   "cell_type": "code",
   "execution_count": 2,
   "metadata": {},
   "outputs": [],
   "source": [
    "from amutils import build_graph\n",
    "from amutils import build_reverse_index\n",
    "from amutils import load_am_json_data\n",
    "\n",
    "from scipy import stats as ss\n",
    "\n",
    "from disrupt import compute_disruption\n",
    "\n",
    "import ipywidgets as widgets\n",
    "import matplotlib.pyplot as plt\n",
    "import networkx as nx\n",
    "import numpy as np\n",
    "import pandas as pd"
   ]
  },
  {
   "cell_type": "code",
   "execution_count": 3,
   "metadata": {},
   "outputs": [],
   "source": [
    "inches_per_pt = 1.0 / 72.27\n",
    "fig_width = 240 * inches_per_pt  # width in inches\n",
    "fig_height = 160 * inches_per_pt #.4 * fig_width\n",
    "\n",
    "plt.rcParams['figure.figsize']  = (fig_width, fig_height)\n",
    "plt.rcParams['axes.labelsize']  = 8\n",
    "plt.rcParams['axes.titlesize']  = 8\n",
    "plt.rcParams['legend.fontsize'] = 8\n",
    "plt.rcParams['xtick.labelsize'] = 8\n",
    "plt.rcParams['ytick.labelsize'] = 8\n",
    "plt.rcParams['lines.linewidth'] = 4\n",
    "plt.rcParams['text.usetex'] = True"
   ]
  },
  {
   "cell_type": "code",
   "execution_count": 4,
   "metadata": {},
   "outputs": [],
   "source": [
    "plt.ion()\n",
    "plt.style.use('seaborn-colorblind')\n",
    "plt.rcParams['figure.figsize']  = (fig_width, fig_height)"
   ]
  },
  {
   "cell_type": "code",
   "execution_count": 5,
   "metadata": {},
   "outputs": [],
   "source": [
    "def despine(ax=None):\n",
    "    if ax is None:\n",
    "        ax = plt.gca()\n",
    "    # Hide the right and top spines\n",
    "    ax.spines['right'].set_visible(False)\n",
    "    ax.spines['top'].set_visible(False)\n",
    "\n",
    "    # Only show ticks on the left and bottom spines\n",
    "    ax.yaxis.set_ticks_position('left')\n",
    "    ax.xaxis.set_ticks_position('bottom')\n",
    "    plt.tight_layout(pad=0)"
   ]
  },
  {
   "cell_type": "code",
   "execution_count": 6,
   "metadata": {},
   "outputs": [],
   "source": [
    "json_data = load_am_json_data()\n",
    "decades, genres, styles = build_reverse_index(json_data)\n",
    "G = build_graph(json_data)\n",
    "id_to_node = dict((i, n) for i, n in enumerate(G.nodes))\n",
    "in_count = dict(G.in_degree(G.nodes))\n",
    "out_count = dict(G.out_degree(G.nodes))"
   ]
  },
  {
   "cell_type": "code",
   "execution_count": 7,
   "metadata": {},
   "outputs": [
    {
     "data": {
      "text/html": [
       "<div>\n",
       "<style scoped>\n",
       "    .dataframe tbody tr th:only-of-type {\n",
       "        vertical-align: middle;\n",
       "    }\n",
       "\n",
       "    .dataframe tbody tr th {\n",
       "        vertical-align: top;\n",
       "    }\n",
       "\n",
       "    .dataframe thead th {\n",
       "        text-align: right;\n",
       "    }\n",
       "</style>\n",
       "<table border=\"1\" class=\"dataframe\">\n",
       "  <thead>\n",
       "    <tr style=\"text-align: right;\">\n",
       "      <th></th>\n",
       "      <th>ni</th>\n",
       "      <th>nj</th>\n",
       "      <th>nk</th>\n",
       "      <th>disruption</th>\n",
       "      <th>name</th>\n",
       "      <th>confidence</th>\n",
       "      <th>in</th>\n",
       "      <th>out</th>\n",
       "    </tr>\n",
       "  </thead>\n",
       "  <tbody>\n",
       "    <tr>\n",
       "      <th>mn0003013627</th>\n",
       "      <td>2.0</td>\n",
       "      <td>0.0</td>\n",
       "      <td>75.0</td>\n",
       "      <td>0.025974</td>\n",
       "      <td>Daughter</td>\n",
       "      <td>0.6747</td>\n",
       "      <td>2</td>\n",
       "      <td>2</td>\n",
       "    </tr>\n",
       "    <tr>\n",
       "      <th>mn0000206668</th>\n",
       "      <td>1.0</td>\n",
       "      <td>0.0</td>\n",
       "      <td>304.0</td>\n",
       "      <td>0.003279</td>\n",
       "      <td>Des'ree</td>\n",
       "      <td>0.5910</td>\n",
       "      <td>1</td>\n",
       "      <td>3</td>\n",
       "    </tr>\n",
       "    <tr>\n",
       "      <th>mn0000622805</th>\n",
       "      <td>236.0</td>\n",
       "      <td>56.0</td>\n",
       "      <td>1566.0</td>\n",
       "      <td>0.096878</td>\n",
       "      <td>Stevie Wonder</td>\n",
       "      <td>1.0000</td>\n",
       "      <td>292</td>\n",
       "      <td>12</td>\n",
       "    </tr>\n",
       "    <tr>\n",
       "      <th>mn0000576718</th>\n",
       "      <td>4.0</td>\n",
       "      <td>4.0</td>\n",
       "      <td>1986.0</td>\n",
       "      <td>0.000000</td>\n",
       "      <td>Seal</td>\n",
       "      <td>0.4939</td>\n",
       "      <td>8</td>\n",
       "      <td>20</td>\n",
       "    </tr>\n",
       "    <tr>\n",
       "      <th>mn0000302106</th>\n",
       "      <td>5.0</td>\n",
       "      <td>3.0</td>\n",
       "      <td>612.0</td>\n",
       "      <td>0.003226</td>\n",
       "      <td>Lisa Stansfield</td>\n",
       "      <td>0.6572</td>\n",
       "      <td>8</td>\n",
       "      <td>11</td>\n",
       "    </tr>\n",
       "  </tbody>\n",
       "</table>\n",
       "</div>"
      ],
      "text/plain": [
       "                 ni    nj      nk  disruption             name  confidence  \\\n",
       "mn0003013627    2.0   0.0    75.0    0.025974         Daughter      0.6747   \n",
       "mn0000206668    1.0   0.0   304.0    0.003279          Des'ree      0.5910   \n",
       "mn0000622805  236.0  56.0  1566.0    0.096878    Stevie Wonder      1.0000   \n",
       "mn0000576718    4.0   4.0  1986.0    0.000000             Seal      0.4939   \n",
       "mn0000302106    5.0   3.0   612.0    0.003226  Lisa Stansfield      0.6572   \n",
       "\n",
       "               in  out  \n",
       "mn0003013627    2    2  \n",
       "mn0000206668    1    3  \n",
       "mn0000622805  292   12  \n",
       "mn0000576718    8   20  \n",
       "mn0000302106    8   11  "
      ]
     },
     "execution_count": 7,
     "metadata": {},
     "output_type": "execute_result"
    }
   ],
   "source": [
    "df = pd.read_csv('../disrupt.csv', index_col=0)\n",
    "df['in'] = list(map(lambda x: in_count[x], df.index))\n",
    "df['out'] = list(map(lambda x: out_count[x], df.index))\n",
    "df.head()"
   ]
  },
  {
   "cell_type": "code",
   "execution_count": 8,
   "metadata": {},
   "outputs": [],
   "source": [
    "good = (df['in'] >= 3) & (df['out'] >= 3) & (df.index.isin(G.nodes))"
   ]
  },
  {
   "cell_type": "code",
   "execution_count": 9,
   "metadata": {},
   "outputs": [],
   "source": [
    "disrupt_g = df[good]\n",
    "disrupt_g = disrupt_g[disrupt_g['confidence'] > 0.95]"
   ]
  },
  {
   "cell_type": "code",
   "execution_count": null,
   "metadata": {},
   "outputs": [
    {
     "data": {
      "text/plain": [
       "KendalltauResult(correlation=-0.041342871639382009, pvalue=0.11610895591726367)"
      ]
     },
     "execution_count": 10,
     "metadata": {},
     "output_type": "execute_result"
    },
    {
     "data": {
      "image/png": "[encoded data removed]",
      "text/plain": [
       "<Figure size 239.103x159.402 with 1 Axes>"
      ]
     },
     "metadata": {
      "needs_background": "light"
     },
     "output_type": "display_data"
    }
   ],
   "source": [
    "cen = nx.in_degree_centrality(G)\n",
    "cen = pd.Series(cen).loc[disrupt_g.index]\n",
    "plt.semilogx(cen, disrupt_g['disruption'], 'o', alpha=0.4)\n",
    "plt.xlabel('In Degree Centrality')\n",
    "plt.ylabel('Disruption')\n",
    "despine()\n",
    "plt.savefig('in-degree.pdf')\n",
    "\n",
    "ss.kendalltau(cen, disrupt_g['disruption'])"
   ]
  },
  {
   "cell_type": "code",
   "execution_count": null,
   "metadata": {},
   "outputs": [
    {
     "data": {
      "text/plain": [
       "KendalltauResult(correlation=-0.29437846289606656, pvalue=4.7967605510705359e-28)"
      ]
     },
     "execution_count": 11,
     "metadata": {},
     "output_type": "execute_result"
    },
    {
     "data": {
      "image/png": "[encoded data removed]",
      "text/plain": [
       "<Figure size 239.103x159.402 with 1 Axes>"
      ]
     },
     "metadata": {
      "needs_background": "light"
     },
     "output_type": "display_data"
    }
   ],
   "source": [
    "cen = nx.out_degree_centrality(G)\n",
    "cen = pd.Series(cen).loc[disrupt_g.index]\n",
    "plt.semilogx(cen, disrupt_g['disruption'], 'o', alpha=0.4)\n",
    "plt.xlabel('Out Degree Centrality')\n",
    "plt.ylabel('Disruption')\n",
    "despine()\n",
    "plt.savefig('out-degree.pdf')\n",
    "\n",
    "ss.kendalltau(cen, disrupt_g['disruption'])"
   ]
  },
  {
   "cell_type": "code",
   "execution_count": null,
   "metadata": {},
   "outputs": [
    {
     "data": {
      "text/plain": [
       "KendalltauResult(correlation=0.021562935876893372, pvalue=0.41014320477629407)"
      ]
     },
     "execution_count": 12,
     "metadata": {},
     "output_type": "execute_result"
    },
    {
     "data": {
      "image/png": "[encoded data removed]",
      "text/plain": [
       "<Figure size 239.103x159.402 with 1 Axes>"
      ]
     },
     "metadata": {
      "needs_background": "light"
     },
     "output_type": "display_data"
    }
   ],
   "source": [
    "cen = nx.eigenvector_centrality(G)\n",
    "cen = pd.Series(cen).loc[disrupt_g.index]\n",
    "plt.semilogx(cen, disrupt_g['disruption'], 'o', alpha=0.4)\n",
    "plt.xlabel('Eigen-Vector Centrality')\n",
    "plt.ylabel('Disruption')\n",
    "despine()\n",
    "plt.savefig('eigen.pdf')\n",
    "\n",
    "ss.kendalltau(cen, disrupt_g['disruption'])"
   ]
  },
  {
   "cell_type": "code",
   "execution_count": null,
   "metadata": {},
   "outputs": [
    {
     "data": {
      "text/plain": [
       "KendalltauResult(correlation=-0.0096504992535515512, pvalue=0.71240888149494785)"
      ]
     },
     "execution_count": 13,
     "metadata": {},
     "output_type": "execute_result"
    },
    {
     "data": {
      "image/png": "[encoded data removed]",
      "text/plain": [
       "<Figure size 239.103x159.402 with 1 Axes>"
      ]
     },
     "metadata": {
      "needs_background": "light"
     },
     "output_type": "display_data"
    }
   ],
   "source": [
    "cen = nx.katz_centrality(G)\n",
    "cen = pd.Series(cen).loc[disrupt_g.index]\n",
    "plt.semilogx(cen, disrupt_g['disruption'], 'o', alpha=0.4)\n",
    "plt.xlabel('Katz Centrality')\n",
    "plt.ylabel('Disruption')\n",
    "despine()\n",
    "plt.savefig('katz.pdf')\n",
    "\n",
    "ss.kendalltau(cen, disrupt_g['disruption'])"
   ]
  },
  {
   "cell_type": "code",
   "execution_count": null,
   "metadata": {},
   "outputs": [],
   "source": [
    "cen = nx.betweenness_centrality(G)\n",
    "cen = pd.Series(cen).loc[disrupt_g.index]\n",
    "plt.semilogx(cen, disrupt_g['disruption'], 'o', alpha=0.4)\n",
    "plt.xlabel('Betweness Centrality')\n",
    "plt.ylabel('Disruption')\n",
    "despine()\n",
    "plt.savefig('betweness.pdf')\n",
    "\n",
    "ss.kendalltau(cen, disrupt_g['disruption'])"
   ]
  },
  {
   "cell_type": "code",
   "execution_count": null,
   "metadata": {},
   "outputs": [],
   "source": [
    "cen = nx.pagerank(G)\n",
    "cen = pd.Series(cen).loc[disrupt_g.index]\n",
    "plt.semilogx(cen, disrupt_g['disruption'], 'o', alpha=0.4)\n",
    "plt.xlabel('Pagerank Centrality')\n",
    "plt.ylabel('Disruption')\n",
    "despine()\n",
    "plt.savefig('pagerank.pdf')\n",
    "\n",
    "ss.kendalltau(cen, disrupt_g['disruption'])"
   ]
  },
  {
   "cell_type": "code",
   "execution_count": null,
   "metadata": {},
   "outputs": [],
   "source": []
  }
 ],
 "metadata": {
  "kernelspec": {
   "display_name": "Python 3",
   "language": "python",
   "name": "python3"
  },
  "language_info": {
   "codemirror_mode": {
    "name": "ipython",
    "version": 3
   },
   "file_extension": ".py",
   "mimetype": "text/x-python",
   "name": "python",
   "nbconvert_exporter": "python",
   "pygments_lexer": "ipython3",
   "version": "3.6.8"
  }
 },
 "nbformat": 4,
 "nbformat_minor": 2
}
