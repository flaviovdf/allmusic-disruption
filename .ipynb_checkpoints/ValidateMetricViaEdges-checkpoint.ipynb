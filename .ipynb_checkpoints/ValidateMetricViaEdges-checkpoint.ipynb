{
 "cells": [
  {
   "cell_type": "code",
   "execution_count": 1,
   "metadata": {},
   "outputs": [],
   "source": [
    "# -*- coding: utf8\n",
    "\n",
    "import sys\n",
    "sys.path.append('../code/')"
   ]
  },
  {
   "cell_type": "code",
   "execution_count": 2,
   "metadata": {},
   "outputs": [],
   "source": [
    "from amutils import build_graph\n",
    "from amutils import build_reverse_index\n",
    "from amutils import load_am_json_data\n",
    "\n",
    "from deep_features import features_and_pairwise\n",
    "\n",
    "from disrupt import compute_disruption\n",
    "\n",
    "from scipy.stats import kendalltau\n",
    "from scipy.stats import pearsonr\n",
    "from scipy.stats import spearmanr\n",
    "\n",
    "import networkx as nx\n",
    "import numpy as np\n",
    "import pandas as pd"
   ]
  },
  {
   "cell_type": "code",
   "execution_count": 3,
   "metadata": {},
   "outputs": [],
   "source": [
    "json_data = load_am_json_data()\n",
    "feats_df, names_df, S = features_and_pairwise()"
   ]
  },
  {
   "cell_type": "code",
   "execution_count": 4,
   "metadata": {},
   "outputs": [],
   "source": [
    "store = pd.HDFStore('../cache/dt_matrices_new.h5')\n",
    "DT = store['song_dt']\n",
    "store.close()"
   ]
  },
  {
   "cell_type": "code",
   "execution_count": 5,
   "metadata": {},
   "outputs": [],
   "source": [
    "valid = S.index.intersection(DT.index)\n",
    "S = S.loc[valid]\n",
    "S = S[valid.values]\n",
    "DT = DT.loc[valid]\n",
    "DT = DT[valid.values]\n",
    "\n",
    "assert(DT.shape == S.shape)"
   ]
  },
  {
   "cell_type": "code",
   "execution_count": 6,
   "metadata": {},
   "outputs": [],
   "source": [
    "_6M = pd.Timedelta(6, 'M').to_timedelta64().astype('timedelta64[s]').astype('f')\n",
    "A = S[DT > _6M]"
   ]
  },
  {
   "cell_type": "code",
   "execution_count": 7,
   "metadata": {},
   "outputs": [],
   "source": [
    "song2artist = {}\n",
    "for spotify_id, _, artist in names_df.values:\n",
    "    song2artist[spotify_id] = artist"
   ]
  },
  {
   "cell_type": "code",
   "execution_count": 8,
   "metadata": {},
   "outputs": [],
   "source": [
    "reverse_index = {}\n",
    "for artist in json_data.keys():\n",
    "    reverse_index[json_data[artist]['name']] = artist"
   ]
  },
  {
   "cell_type": "code",
   "execution_count": 9,
   "metadata": {},
   "outputs": [],
   "source": [
    "def extract_graph(sim_df, threshold, song2artist):\n",
    "    cols = sim_df.columns\n",
    "    bt = sim_df.apply(lambda x: x > threshold)\n",
    "    graph = bt.apply(lambda x: set(map(lambda s: song2artist[s], cols[x.values])), axis=1)\n",
    "    graph.index = graph.index.map(lambda s: song2artist[s])\n",
    "    graph = graph[~graph.index.duplicated(keep='first')]\n",
    "    return graph"
   ]
  },
  {
   "cell_type": "code",
   "execution_count": 25,
   "metadata": {},
   "outputs": [
    {
     "name": "stdout",
     "output_type": "stream",
     "text": [
      "0.0 0.0020034974037677553 0.90290088638195 1118544 2482\n",
      "0.0263157894737 0.0020107009883776274 0.9020950846091862 1113542 2482\n",
      "0.0526315789474 0.002049722662807204 0.8924254633360194 1080634 2482\n",
      "0.0789473684211 0.0021691500424700924 0.8807413376309428 1007768 2482\n",
      "0.105263157895 0.0023365761638032374 0.8448831587429493 897467 2482\n",
      "0.131578947368 0.0026165993389643777 0.8037872683319903 762440 2482\n",
      "0.157894736842 0.0029719624961256326 0.74174053182917 619456 2482\n",
      "0.184210526316 0.003395473117098218 0.6599516518936341 482407 2482\n",
      "0.210526315789 0.003908709485097871 0.565269943593876 358942 2482\n",
      "0.236842105263 0.004497123796041749 0.46333601933924257 255719 2482\n",
      "0.263157894737 0.005169227214970544 0.3605962933118453 173140 2482\n",
      "0.289473684211 0.005782218105626647 0.25906526994359386 111203 2482\n",
      "0.315789473684 0.0066005125454437095 0.17848509266720386 67116 2482\n",
      "0.342105263158 0.00778107831024421 0.11925866236905722 38041 2482\n",
      "0.368421052632 0.009024280799720796 0.07292506043513296 20057 2482\n",
      "0.394736842105 0.010072235222301353 0.039887187751813054 9829 2482\n",
      "0.421052631579 0.010071620411817368 0.01813053988718775 4468 2482\n",
      "0.447368421053 0.011595803423522915 0.008460918614020952 1811 2482\n",
      "0.473684210526 0.016541353383458645 0.004431909750201451 665 2482\n",
      "0.5 0.022727272727272728 0.00201450443190975 220 2482\n"
     ]
    }
   ],
   "source": [
    "ts = np.linspace(0, 0.5, 20)\n",
    "X = []\n",
    "for t in ts:\n",
    "    edges = extract_graph(A, t, song2artist)\n",
    "    GE = nx.DiGraph()\n",
    "    for row, cols in edges.iteritems():\n",
    "        for col in cols:\n",
    "            if row in reverse_index and col in reverse_index:\n",
    "                GE.add_edge(reverse_index[row], reverse_index[col])\n",
    "    if t == 0:\n",
    "        GT = build_graph(json_data, set(GE.nodes), True)\n",
    "    set_e = set(GE.edges)\n",
    "    set_t = set(GT.edges)\n",
    "    \n",
    "    tp = len(set_e.intersection(set_t))\n",
    "    precision = tp / len(set_e)\n",
    "    recall = tp / len(set_t)\n",
    "    \n",
    "    X.append([t, precision, recall])\n",
    "    print(t, precision, recall, len(set_e), len(set_t))"
   ]
  },
  {
   "cell_type": "code",
   "execution_count": 26,
   "metadata": {},
   "outputs": [],
   "source": [
    "X = np.array(X)"
   ]
  },
  {
   "cell_type": "code",
   "execution_count": 27,
   "metadata": {},
   "outputs": [
    {
     "data": {
      "text/plain": [
       "[<matplotlib.lines.Line2D at 0x10e9cae80>]"
      ]
     },
     "execution_count": 27,
     "metadata": {},
     "output_type": "execute_result"
    },
    {
     "data": {
      "image/png": "[encoded data removed]",
      "text/plain": [
       "<matplotlib.figure.Figure at 0x1a1e9a3e80>"
      ]
     },
     "metadata": {
      "needs_background": "light"
     },
     "output_type": "display_data"
    }
   ],
   "source": [
    "import matplotlib.pyplot as plt\n",
    "plt.plot(X[:, 0], X[:, 1])"
   ]
  },
  {
   "cell_type": "code",
   "execution_count": 28,
   "metadata": {},
   "outputs": [
    {
     "data": {
      "text/plain": [
       "[<matplotlib.lines.Line2D at 0x1a1d314cc0>]"
      ]
     },
     "execution_count": 28,
     "metadata": {},
     "output_type": "execute_result"
    },
    {
     "data": {
      "image/png": "[encoded data removed]",
      "text/plain": [
       "<matplotlib.figure.Figure at 0x1a3ef69048>"
      ]
     },
     "metadata": {
      "needs_background": "light"
     },
     "output_type": "display_data"
    }
   ],
   "source": [
    "plt.plot(X[:, 1], X[:, 2])"
   ]
  },
  {
   "cell_type": "code",
   "execution_count": 29,
   "metadata": {},
   "outputs": [
    {
     "data": {
      "text/plain": [
       "[<matplotlib.lines.Line2D at 0x1a5fa105f8>]"
      ]
     },
     "execution_count": 29,
     "metadata": {},
     "output_type": "execute_result"
    },
    {
     "data": {
      "image/png": "[encoded data removed]",
      "text/plain": [
       "<matplotlib.figure.Figure at 0x1a1845d898>"
      ]
     },
     "metadata": {
      "needs_background": "light"
     },
     "output_type": "display_data"
    }
   ],
   "source": [
    "plt.plot(X[:, 2], X[:, 1])"
   ]
  },
  {
   "cell_type": "code",
   "execution_count": null,
   "metadata": {},
   "outputs": [],
   "source": []
  }
 ],
 "metadata": {
  "kernelspec": {
   "display_name": "Python 3",
   "language": "python",
   "name": "python3"
  },
  "language_info": {
   "codemirror_mode": {
    "name": "ipython",
    "version": 3
   },
   "file_extension": ".py",
   "mimetype": "text/x-python",
   "name": "python",
   "nbconvert_exporter": "python",
   "pygments_lexer": "ipython3",
   "version": "3.6.8"
  }
 },
 "nbformat": 4,
 "nbformat_minor": 2
}
