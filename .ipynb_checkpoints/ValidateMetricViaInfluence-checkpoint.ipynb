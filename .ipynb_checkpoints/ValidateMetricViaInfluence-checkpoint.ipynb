{
 "cells": [
  {
   "cell_type": "code",
   "execution_count": 1,
   "metadata": {},
   "outputs": [],
   "source": [
    "# -*- coding: utf8\n",
    "\n",
    "import sys\n",
    "sys.path.append('../code/')"
   ]
  },
  {
   "cell_type": "code",
   "execution_count": 2,
   "metadata": {},
   "outputs": [],
   "source": [
    "from amutils import build_graph\n",
    "from amutils import build_reverse_index\n",
    "from amutils import load_am_json_data\n",
    "\n",
    "from deep_features import features_and_pairwise\n",
    "\n",
    "from scipy.stats import kendalltau\n",
    "from scipy.stats import pearsonr\n",
    "from scipy.stats import spearmanr\n",
    "\n",
    "import matplotlib.pyplot as plt\n",
    "import numpy as np\n",
    "import pandas as pd"
   ]
  },
  {
   "cell_type": "code",
   "execution_count": 3,
   "metadata": {},
   "outputs": [],
   "source": [
    "json_data = load_am_json_data()\n",
    "feats_df, names_df, S = features_and_pairwise()"
   ]
  },
  {
   "cell_type": "code",
   "execution_count": 4,
   "metadata": {},
   "outputs": [],
   "source": [
    "store = pd.HDFStore('../cache/dt_matrices_new.h5')\n",
    "DT = store['song_dt']\n",
    "store.close()"
   ]
  },
  {
   "cell_type": "code",
   "execution_count": 5,
   "metadata": {},
   "outputs": [
    {
     "data": {
      "text/plain": [
       "(8237, 8237)"
      ]
     },
     "execution_count": 5,
     "metadata": {},
     "output_type": "execute_result"
    }
   ],
   "source": [
    "DT.shape"
   ]
  },
  {
   "cell_type": "code",
   "execution_count": 6,
   "metadata": {},
   "outputs": [
    {
     "data": {
      "text/html": [
       "<div>\n",
       "<style scoped>\n",
       "    .dataframe tbody tr th:only-of-type {\n",
       "        vertical-align: middle;\n",
       "    }\n",
       "\n",
       "    .dataframe tbody tr th {\n",
       "        vertical-align: top;\n",
       "    }\n",
       "\n",
       "    .dataframe thead th {\n",
       "        text-align: right;\n",
       "    }\n",
       "</style>\n",
       "<table border=\"1\" class=\"dataframe\">\n",
       "  <thead>\n",
       "    <tr style=\"text-align: right;\">\n",
       "      <th></th>\n",
       "      <th>000hbVIEfS3jy3srVR2wh9</th>\n",
       "      <th>004ZH9ISUSEwansKKbUdJs</th>\n",
       "      <th>00Bu7AiNb06604KMuYTQAi</th>\n",
       "      <th>00GfGwzlSB8DoA0cDP2Eit</th>\n",
       "      <th>00HHXyQsZ21t3E3VBGTAUF</th>\n",
       "      <th>00HnYt4dGTSZJIxywDcs7P</th>\n",
       "      <th>00IIRIjBvLdF3iYN85baVx</th>\n",
       "      <th>00IrSynHsun7DpDrLkRIjM</th>\n",
       "      <th>00JWHewRnWHruotnPxON0z</th>\n",
       "      <th>00Mb3DuaIH1kjrwOku9CGU</th>\n",
       "      <th>...</th>\n",
       "      <th>7zJnmSjZKjntHmOvEokGb3</th>\n",
       "      <th>7zNM46fo01dCBidY4yGNTZ</th>\n",
       "      <th>7zSAI7Ae6DPVepN8MksKVZ</th>\n",
       "      <th>7zVZF0OgDJkFJohnlKwEpa</th>\n",
       "      <th>7zjSZQkMoGKylSq6s1rK9Y</th>\n",
       "      <th>7zlF2G7QFPdj9lmmGNVuNq</th>\n",
       "      <th>7zmqbdEqmQWgU2wOoBPG83</th>\n",
       "      <th>7zqM7Wm2xJLZ50qAnTLoHD</th>\n",
       "      <th>7zrNVkp55pOrjMNkbLQECJ</th>\n",
       "      <th>7zzme6UyNlgkBY4D8TZMHN</th>\n",
       "    </tr>\n",
       "  </thead>\n",
       "  <tbody>\n",
       "    <tr>\n",
       "      <th>000hbVIEfS3jy3srVR2wh9</th>\n",
       "      <td>0.0</td>\n",
       "      <td>-8.938944e+08</td>\n",
       "      <td>1.560384e+08</td>\n",
       "      <td>-746928000.0</td>\n",
       "      <td>-189907200.0</td>\n",
       "      <td>-309657600.0</td>\n",
       "      <td>-600566400.0</td>\n",
       "      <td>-661651200.0</td>\n",
       "      <td>1.971648e+08</td>\n",
       "      <td>-1.151539e+09</td>\n",
       "      <td>...</td>\n",
       "      <td>-651369600.0</td>\n",
       "      <td>-1.438214e+09</td>\n",
       "      <td>-525571200.0</td>\n",
       "      <td>-145756800.0</td>\n",
       "      <td>-447552000.0</td>\n",
       "      <td>-1.564013e+09</td>\n",
       "      <td>-1.343866e+09</td>\n",
       "      <td>-1.354752e+09</td>\n",
       "      <td>-759024000.0</td>\n",
       "      <td>-185068800.0</td>\n",
       "    </tr>\n",
       "    <tr>\n",
       "      <th>004ZH9ISUSEwansKKbUdJs</th>\n",
       "      <td>893894400.0</td>\n",
       "      <td>0.000000e+00</td>\n",
       "      <td>1.049933e+09</td>\n",
       "      <td>146966400.0</td>\n",
       "      <td>703987200.0</td>\n",
       "      <td>584236800.0</td>\n",
       "      <td>293328000.0</td>\n",
       "      <td>232243200.0</td>\n",
       "      <td>1.091059e+09</td>\n",
       "      <td>-2.576448e+08</td>\n",
       "      <td>...</td>\n",
       "      <td>242524800.0</td>\n",
       "      <td>-5.443200e+08</td>\n",
       "      <td>368323200.0</td>\n",
       "      <td>748137600.0</td>\n",
       "      <td>446342400.0</td>\n",
       "      <td>-6.701184e+08</td>\n",
       "      <td>-4.499712e+08</td>\n",
       "      <td>-4.608576e+08</td>\n",
       "      <td>134870400.0</td>\n",
       "      <td>708825600.0</td>\n",
       "    </tr>\n",
       "    <tr>\n",
       "      <th>00Bu7AiNb06604KMuYTQAi</th>\n",
       "      <td>-156038400.0</td>\n",
       "      <td>-1.049933e+09</td>\n",
       "      <td>0.000000e+00</td>\n",
       "      <td>-902966400.0</td>\n",
       "      <td>-345945600.0</td>\n",
       "      <td>-465696000.0</td>\n",
       "      <td>-756604800.0</td>\n",
       "      <td>-817689600.0</td>\n",
       "      <td>4.112640e+07</td>\n",
       "      <td>-1.307578e+09</td>\n",
       "      <td>...</td>\n",
       "      <td>-807408000.0</td>\n",
       "      <td>-1.594253e+09</td>\n",
       "      <td>-681609600.0</td>\n",
       "      <td>-301795200.0</td>\n",
       "      <td>-603590400.0</td>\n",
       "      <td>-1.720051e+09</td>\n",
       "      <td>-1.499904e+09</td>\n",
       "      <td>-1.510790e+09</td>\n",
       "      <td>-915062400.0</td>\n",
       "      <td>-341107200.0</td>\n",
       "    </tr>\n",
       "    <tr>\n",
       "      <th>00GfGwzlSB8DoA0cDP2Eit</th>\n",
       "      <td>746928000.0</td>\n",
       "      <td>-1.469664e+08</td>\n",
       "      <td>9.029664e+08</td>\n",
       "      <td>0.0</td>\n",
       "      <td>557020800.0</td>\n",
       "      <td>437270400.0</td>\n",
       "      <td>146361600.0</td>\n",
       "      <td>85276800.0</td>\n",
       "      <td>9.440928e+08</td>\n",
       "      <td>-4.046112e+08</td>\n",
       "      <td>...</td>\n",
       "      <td>95558400.0</td>\n",
       "      <td>-6.912864e+08</td>\n",
       "      <td>221356800.0</td>\n",
       "      <td>601171200.0</td>\n",
       "      <td>299376000.0</td>\n",
       "      <td>-8.170848e+08</td>\n",
       "      <td>-5.969376e+08</td>\n",
       "      <td>-6.078240e+08</td>\n",
       "      <td>-12096000.0</td>\n",
       "      <td>561859200.0</td>\n",
       "    </tr>\n",
       "    <tr>\n",
       "      <th>00HHXyQsZ21t3E3VBGTAUF</th>\n",
       "      <td>189907200.0</td>\n",
       "      <td>-7.039872e+08</td>\n",
       "      <td>3.459456e+08</td>\n",
       "      <td>-557020800.0</td>\n",
       "      <td>0.0</td>\n",
       "      <td>-119750400.0</td>\n",
       "      <td>-410659200.0</td>\n",
       "      <td>-471744000.0</td>\n",
       "      <td>3.870720e+08</td>\n",
       "      <td>-9.616320e+08</td>\n",
       "      <td>...</td>\n",
       "      <td>-461462400.0</td>\n",
       "      <td>-1.248307e+09</td>\n",
       "      <td>-335664000.0</td>\n",
       "      <td>44150400.0</td>\n",
       "      <td>-257644800.0</td>\n",
       "      <td>-1.374106e+09</td>\n",
       "      <td>-1.153958e+09</td>\n",
       "      <td>-1.164845e+09</td>\n",
       "      <td>-569116800.0</td>\n",
       "      <td>4838400.0</td>\n",
       "    </tr>\n",
       "  </tbody>\n",
       "</table>\n",
       "<p>5 rows × 8237 columns</p>\n",
       "</div>"
      ],
      "text/plain": [
       "                        000hbVIEfS3jy3srVR2wh9  004ZH9ISUSEwansKKbUdJs  \\\n",
       "000hbVIEfS3jy3srVR2wh9                     0.0           -8.938944e+08   \n",
       "004ZH9ISUSEwansKKbUdJs             893894400.0            0.000000e+00   \n",
       "00Bu7AiNb06604KMuYTQAi            -156038400.0           -1.049933e+09   \n",
       "00GfGwzlSB8DoA0cDP2Eit             746928000.0           -1.469664e+08   \n",
       "00HHXyQsZ21t3E3VBGTAUF             189907200.0           -7.039872e+08   \n",
       "\n",
       "                        00Bu7AiNb06604KMuYTQAi  00GfGwzlSB8DoA0cDP2Eit  \\\n",
       "000hbVIEfS3jy3srVR2wh9            1.560384e+08            -746928000.0   \n",
       "004ZH9ISUSEwansKKbUdJs            1.049933e+09             146966400.0   \n",
       "00Bu7AiNb06604KMuYTQAi            0.000000e+00            -902966400.0   \n",
       "00GfGwzlSB8DoA0cDP2Eit            9.029664e+08                     0.0   \n",
       "00HHXyQsZ21t3E3VBGTAUF            3.459456e+08            -557020800.0   \n",
       "\n",
       "                        00HHXyQsZ21t3E3VBGTAUF  00HnYt4dGTSZJIxywDcs7P  \\\n",
       "000hbVIEfS3jy3srVR2wh9            -189907200.0            -309657600.0   \n",
       "004ZH9ISUSEwansKKbUdJs             703987200.0             584236800.0   \n",
       "00Bu7AiNb06604KMuYTQAi            -345945600.0            -465696000.0   \n",
       "00GfGwzlSB8DoA0cDP2Eit             557020800.0             437270400.0   \n",
       "00HHXyQsZ21t3E3VBGTAUF                     0.0            -119750400.0   \n",
       "\n",
       "                        00IIRIjBvLdF3iYN85baVx  00IrSynHsun7DpDrLkRIjM  \\\n",
       "000hbVIEfS3jy3srVR2wh9            -600566400.0            -661651200.0   \n",
       "004ZH9ISUSEwansKKbUdJs             293328000.0             232243200.0   \n",
       "00Bu7AiNb06604KMuYTQAi            -756604800.0            -817689600.0   \n",
       "00GfGwzlSB8DoA0cDP2Eit             146361600.0              85276800.0   \n",
       "00HHXyQsZ21t3E3VBGTAUF            -410659200.0            -471744000.0   \n",
       "\n",
       "                        00JWHewRnWHruotnPxON0z  00Mb3DuaIH1kjrwOku9CGU  ...  \\\n",
       "000hbVIEfS3jy3srVR2wh9            1.971648e+08           -1.151539e+09  ...   \n",
       "004ZH9ISUSEwansKKbUdJs            1.091059e+09           -2.576448e+08  ...   \n",
       "00Bu7AiNb06604KMuYTQAi            4.112640e+07           -1.307578e+09  ...   \n",
       "00GfGwzlSB8DoA0cDP2Eit            9.440928e+08           -4.046112e+08  ...   \n",
       "00HHXyQsZ21t3E3VBGTAUF            3.870720e+08           -9.616320e+08  ...   \n",
       "\n",
       "                        7zJnmSjZKjntHmOvEokGb3  7zNM46fo01dCBidY4yGNTZ  \\\n",
       "000hbVIEfS3jy3srVR2wh9            -651369600.0           -1.438214e+09   \n",
       "004ZH9ISUSEwansKKbUdJs             242524800.0           -5.443200e+08   \n",
       "00Bu7AiNb06604KMuYTQAi            -807408000.0           -1.594253e+09   \n",
       "00GfGwzlSB8DoA0cDP2Eit              95558400.0           -6.912864e+08   \n",
       "00HHXyQsZ21t3E3VBGTAUF            -461462400.0           -1.248307e+09   \n",
       "\n",
       "                        7zSAI7Ae6DPVepN8MksKVZ  7zVZF0OgDJkFJohnlKwEpa  \\\n",
       "000hbVIEfS3jy3srVR2wh9            -525571200.0            -145756800.0   \n",
       "004ZH9ISUSEwansKKbUdJs             368323200.0             748137600.0   \n",
       "00Bu7AiNb06604KMuYTQAi            -681609600.0            -301795200.0   \n",
       "00GfGwzlSB8DoA0cDP2Eit             221356800.0             601171200.0   \n",
       "00HHXyQsZ21t3E3VBGTAUF            -335664000.0              44150400.0   \n",
       "\n",
       "                        7zjSZQkMoGKylSq6s1rK9Y  7zlF2G7QFPdj9lmmGNVuNq  \\\n",
       "000hbVIEfS3jy3srVR2wh9            -447552000.0           -1.564013e+09   \n",
       "004ZH9ISUSEwansKKbUdJs             446342400.0           -6.701184e+08   \n",
       "00Bu7AiNb06604KMuYTQAi            -603590400.0           -1.720051e+09   \n",
       "00GfGwzlSB8DoA0cDP2Eit             299376000.0           -8.170848e+08   \n",
       "00HHXyQsZ21t3E3VBGTAUF            -257644800.0           -1.374106e+09   \n",
       "\n",
       "                        7zmqbdEqmQWgU2wOoBPG83  7zqM7Wm2xJLZ50qAnTLoHD  \\\n",
       "000hbVIEfS3jy3srVR2wh9           -1.343866e+09           -1.354752e+09   \n",
       "004ZH9ISUSEwansKKbUdJs           -4.499712e+08           -4.608576e+08   \n",
       "00Bu7AiNb06604KMuYTQAi           -1.499904e+09           -1.510790e+09   \n",
       "00GfGwzlSB8DoA0cDP2Eit           -5.969376e+08           -6.078240e+08   \n",
       "00HHXyQsZ21t3E3VBGTAUF           -1.153958e+09           -1.164845e+09   \n",
       "\n",
       "                        7zrNVkp55pOrjMNkbLQECJ  7zzme6UyNlgkBY4D8TZMHN  \n",
       "000hbVIEfS3jy3srVR2wh9            -759024000.0            -185068800.0  \n",
       "004ZH9ISUSEwansKKbUdJs             134870400.0             708825600.0  \n",
       "00Bu7AiNb06604KMuYTQAi            -915062400.0            -341107200.0  \n",
       "00GfGwzlSB8DoA0cDP2Eit             -12096000.0             561859200.0  \n",
       "00HHXyQsZ21t3E3VBGTAUF            -569116800.0               4838400.0  \n",
       "\n",
       "[5 rows x 8237 columns]"
      ]
     },
     "execution_count": 6,
     "metadata": {},
     "output_type": "execute_result"
    }
   ],
   "source": [
    "# Sanity with DT\n",
    "DT.head()"
   ]
  },
  {
   "cell_type": "code",
   "execution_count": 7,
   "metadata": {},
   "outputs": [
    {
     "data": {
      "text/plain": [
       "1049932800.0"
      ]
     },
     "execution_count": 7,
     "metadata": {},
     "output_type": "execute_result"
    }
   ],
   "source": [
    "# if DT[i, j] > 0 then DT[j, i] == 0\n",
    "# song i came after song j\n",
    "# 004ZH9ISUSEwansKKbUdJs -> you better wait, steve perry, 1994\n",
    "# 00Bu7AiNb06604KMuYTQAi -> continental walk, the rollers, 1961\n",
    "DT.loc['004ZH9ISUSEwansKKbUdJs']['00Bu7AiNb06604KMuYTQAi']"
   ]
  },
  {
   "cell_type": "code",
   "execution_count": 8,
   "metadata": {},
   "outputs": [
    {
     "data": {
      "text/plain": [
       "-1049932800.0"
      ]
     },
     "execution_count": 8,
     "metadata": {},
     "output_type": "execute_result"
    }
   ],
   "source": [
    "DT.loc['00Bu7AiNb06604KMuYTQAi']['004ZH9ISUSEwansKKbUdJs']"
   ]
  },
  {
   "cell_type": "code",
   "execution_count": 9,
   "metadata": {},
   "outputs": [
    {
     "data": {
      "text/plain": [
       "numpy.timedelta64(33,'Y')"
      ]
     },
     "execution_count": 9,
     "metadata": {},
     "output_type": "execute_result"
    }
   ],
   "source": [
    "# yes, these songs were 33years apart\n",
    "np.timedelta64(1049932800, 's').astype('timedelta64[Y]')"
   ]
  },
  {
   "cell_type": "code",
   "execution_count": 10,
   "metadata": {},
   "outputs": [],
   "source": [
    "# This means that j came before!!!"
   ]
  },
  {
   "cell_type": "code",
   "execution_count": 11,
   "metadata": {},
   "outputs": [
    {
     "data": {
      "text/plain": [
       "(3973, 3973)"
      ]
     },
     "execution_count": 11,
     "metadata": {},
     "output_type": "execute_result"
    }
   ],
   "source": [
    "valid = S.index.intersection(DT.index)\n",
    "S = S.loc[valid]\n",
    "S = S[valid.values]\n",
    "DT = DT.loc[valid]\n",
    "DT = DT[valid.values]\n",
    "\n",
    "assert(DT.shape == S.shape)\n",
    "DT.shape"
   ]
  },
  {
   "cell_type": "code",
   "execution_count": 12,
   "metadata": {},
   "outputs": [],
   "source": [
    "_6M = pd.Timedelta(6, 'M').to_timedelta64().astype('timedelta64[s]').astype('f')\n",
    "A = S[DT > _6M]"
   ]
  },
  {
   "cell_type": "code",
   "execution_count": 13,
   "metadata": {},
   "outputs": [],
   "source": [
    "song2artist = {}\n",
    "for spotify_id, _, artist in names_df.values:\n",
    "    song2artist[spotify_id] = artist"
   ]
  },
  {
   "cell_type": "code",
   "execution_count": 14,
   "metadata": {},
   "outputs": [],
   "source": [
    "artist_names = []\n",
    "for song in A.columns:\n",
    "    artist = song2artist[song]\n",
    "    artist_names.append(artist)"
   ]
  },
  {
   "cell_type": "code",
   "execution_count": 15,
   "metadata": {},
   "outputs": [],
   "source": [
    "# A.sum(axis=0) sum the columns of A, this sums the influence of those who came after col! col is before row.\n",
    "future_df = pd.DataFrame(A.sum(axis=0, skipna=True),\n",
    "                         index=A.index.values,\n",
    "                         columns=['sim'])\n",
    "future_df['artist'] = artist_names\n",
    "series = future_df.groupby('artist').sum()['sim']\n",
    "series = series.dropna()"
   ]
  },
  {
   "cell_type": "code",
   "execution_count": 16,
   "metadata": {},
   "outputs": [],
   "source": [
    "valid = set(series.index)\n",
    "keys_to_consider = set()\n",
    "reverse_index = {}\n",
    "for artist in json_data.keys():\n",
    "    if json_data[artist]['name'] in valid:\n",
    "        keys_to_consider.add(artist)\n",
    "        reverse_index[json_data[artist]['name']] = artist"
   ]
  },
  {
   "cell_type": "code",
   "execution_count": 17,
   "metadata": {},
   "outputs": [],
   "source": [
    "G = build_graph(json_data, keys_to_consider, True)"
   ]
  },
  {
   "cell_type": "code",
   "execution_count": 18,
   "metadata": {},
   "outputs": [],
   "source": [
    "top_nodes = sorted(G.in_degree, key=lambda x: x[1], reverse=True)\n",
    "top_similar = []\n",
    "for name in series.sort_values()[::-1].index:\n",
    "    if name in reverse_index:\n",
    "        top_similar.append((reverse_index[name], series.loc[name]))\n",
    "top_nodes = dict(top_nodes)\n",
    "top_similar = dict(top_similar)"
   ]
  },
  {
   "cell_type": "code",
   "execution_count": 19,
   "metadata": {},
   "outputs": [],
   "source": [
    "x = []\n",
    "y = []\n",
    "valid = set(top_nodes.keys()).intersection(top_similar.keys())\n",
    "for key in valid:\n",
    "    x.append(top_nodes[key])\n",
    "    y.append(top_similar[key])\n",
    "x = np.array(x)\n",
    "y = np.array(y)"
   ]
  },
  {
   "cell_type": "code",
   "execution_count": 20,
   "metadata": {},
   "outputs": [
    {
     "data": {
      "text/plain": [
       "(-0.047469016169565018, 0.1547670307033838)"
      ]
     },
     "execution_count": 20,
     "metadata": {},
     "output_type": "execute_result"
    }
   ],
   "source": [
    "pearsonr(x, y)"
   ]
  },
  {
   "cell_type": "code",
   "execution_count": 21,
   "metadata": {},
   "outputs": [
    {
     "data": {
      "text/plain": [
       "KendalltauResult(correlation=-0.034959844261416982, pvalue=0.15343917930491743)"
      ]
     },
     "execution_count": 21,
     "metadata": {},
     "output_type": "execute_result"
    }
   ],
   "source": [
    "kendalltau(x, y)"
   ]
  },
  {
   "cell_type": "code",
   "execution_count": 22,
   "metadata": {},
   "outputs": [
    {
     "data": {
      "text/plain": [
       "SpearmanrResult(correlation=-0.04639871628738744, pvalue=0.16429335022369698)"
      ]
     },
     "execution_count": 22,
     "metadata": {},
     "output_type": "execute_result"
    }
   ],
   "source": [
    "spearmanr(x, y)"
   ]
  },
  {
   "cell_type": "code",
   "execution_count": 23,
   "metadata": {},
   "outputs": [
    {
     "data": {
      "text/plain": [
       "<matplotlib.collections.PathCollection at 0x1a1e188940>"
      ]
     },
     "execution_count": 23,
     "metadata": {},
     "output_type": "execute_result"
    },
    {
     "data": {
      "image/png": "[encoded data removed]",
      "text/plain": [
       "<matplotlib.figure.Figure at 0x1a93b73828>"
      ]
     },
     "metadata": {
      "needs_background": "light"
     },
     "output_type": "display_data"
    }
   ],
   "source": [
    "# Sanity plots from here on\n",
    "plt.scatter(x, y)"
   ]
  },
  {
   "cell_type": "code",
   "execution_count": 24,
   "metadata": {},
   "outputs": [
    {
     "data": {
      "text/plain": [
       "<matplotlib.collections.PathCollection at 0x1a1e0cb7f0>"
      ]
     },
     "execution_count": 24,
     "metadata": {},
     "output_type": "execute_result"
    },
    {
     "data": {
      "image/png": "[encoded data removed]",
      "text/plain": [
       "<matplotlib.figure.Figure at 0x1a1e173be0>"
      ]
     },
     "metadata": {
      "needs_background": "light"
     },
     "output_type": "display_data"
    }
   ],
   "source": [
    "# Sanity plots from here on\n",
    "plt.scatter(np.log10(x+1), np.log10(y+1))"
   ]
  },
  {
   "cell_type": "code",
   "execution_count": 25,
   "metadata": {},
   "outputs": [],
   "source": [
    "df = pd.DataFrame([x, y]).T\n",
    "aux = df.groupby(0).median()\n",
    "x1 = aux.index.values\n",
    "y1 = aux.values"
   ]
  },
  {
   "cell_type": "code",
   "execution_count": 26,
   "metadata": {},
   "outputs": [
    {
     "data": {
      "text/plain": [
       "<matplotlib.collections.PathCollection at 0x1a1e0582e8>"
      ]
     },
     "execution_count": 26,
     "metadata": {},
     "output_type": "execute_result"
    },
    {
     "data": {
      "image/png": "[encoded data removed]",
      "text/plain": [
       "<matplotlib.figure.Figure at 0x1a1e08cb38>"
      ]
     },
     "metadata": {
      "needs_background": "light"
     },
     "output_type": "display_data"
    }
   ],
   "source": [
    "plt.scatter(x1, y1)"
   ]
  },
  {
   "cell_type": "code",
   "execution_count": 27,
   "metadata": {},
   "outputs": [
    {
     "data": {
      "text/plain": [
       "SpearmanrResult(correlation=-0.25014005602240896, pvalue=0.14726517662123756)"
      ]
     },
     "execution_count": 27,
     "metadata": {},
     "output_type": "execute_result"
    }
   ],
   "source": [
    "spearmanr(x1, y1)"
   ]
  },
  {
   "cell_type": "code",
   "execution_count": 28,
   "metadata": {},
   "outputs": [
    {
     "data": {
      "text/plain": [
       "KendalltauResult(correlation=-0.16302521008403362, pvalue=0.16834569385026132)"
      ]
     },
     "execution_count": 28,
     "metadata": {},
     "output_type": "execute_result"
    }
   ],
   "source": [
    "kendalltau(x1, y1)"
   ]
  },
  {
   "cell_type": "code",
   "execution_count": null,
   "metadata": {},
   "outputs": [],
   "source": []
  }
 ],
 "metadata": {
  "kernelspec": {
   "display_name": "Python 3",
   "language": "python",
   "name": "python3"
  },
  "language_info": {
   "codemirror_mode": {
    "name": "ipython",
    "version": 3
   },
   "file_extension": ".py",
   "mimetype": "text/x-python",
   "name": "python",
   "nbconvert_exporter": "python",
   "pygments_lexer": "ipython3",
   "version": "3.6.8"
  }
 },
 "nbformat": 4,
 "nbformat_minor": 2
}
