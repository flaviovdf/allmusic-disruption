{
 "cells": [
  {
   "cell_type": "code",
   "execution_count": 1,
   "metadata": {},
   "outputs": [],
   "source": [
    "# -*- coding: utf8\n",
    "\n",
    "import sys\n",
    "sys.path.append('../code/')"
   ]
  },
  {
   "cell_type": "code",
   "execution_count": 2,
   "metadata": {},
   "outputs": [],
   "source": [
    "from amutils import build_graph\n",
    "from amutils import build_reverse_index\n",
    "from amutils import load_am_json_data\n",
    "\n",
    "from disrupt import compute_disruption\n",
    "\n",
    "import ipywidgets as widgets\n",
    "import matplotlib.pyplot as plt\n",
    "import numpy as np\n",
    "import pandas as pd"
   ]
  },
  {
   "cell_type": "code",
   "execution_count": 3,
   "metadata": {},
   "outputs": [],
   "source": [
    "plt.rcParams['figure.figsize']  = (18, 10)\n",
    "plt.rcParams['axes.labelsize']  = 16\n",
    "plt.rcParams['axes.titlesize']  = 16\n",
    "plt.rcParams['legend.fontsize'] = 16\n",
    "plt.rcParams['xtick.labelsize'] = 16\n",
    "plt.rcParams['ytick.labelsize'] = 16\n",
    "plt.rcParams['lines.linewidth'] = 2"
   ]
  },
  {
   "cell_type": "code",
   "execution_count": 4,
   "metadata": {},
   "outputs": [],
   "source": [
    "plt.ion()\n",
    "\n",
    "plt.style.use('seaborn-colorblind')\n",
    "plt.rcParams['figure.figsize']  = (12, 8)"
   ]
  },
  {
   "cell_type": "code",
   "execution_count": 5,
   "metadata": {},
   "outputs": [],
   "source": [
    "def despine(ax=None):\n",
    "    if ax is None:\n",
    "        ax = plt.gca()\n",
    "    # Hide the right and top spines\n",
    "    ax.spines['right'].set_visible(False)\n",
    "    ax.spines['top'].set_visible(False)\n",
    "    ax.spines['left'].set_visible(False)\n",
    "\n",
    "    # Only show ticks on the left and bottom spines\n",
    "    ax.yaxis.set_ticks_position('left')\n",
    "    ax.xaxis.set_ticks_position('bottom')\n",
    "    ax.axes.get_yaxis().set_visible(False)"
   ]
  },
  {
   "cell_type": "code",
   "execution_count": 6,
   "metadata": {},
   "outputs": [],
   "source": [
    "json_data = load_am_json_data()\n",
    "decades, genres, styles = build_reverse_index(json_data)"
   ]
  },
  {
   "cell_type": "code",
   "execution_count": 7,
   "metadata": {},
   "outputs": [],
   "source": [
    "def rank_nodes(decade=None, genre=None, style=None,\n",
    "               min_in=1, min_out=0, restrictive=False):\n",
    "    to_use = None\n",
    "    if decade is not None:\n",
    "        to_use = set(decades[decade])\n",
    "    if genre is not None:\n",
    "        if to_use is None:\n",
    "            to_use = set(genres[genre])\n",
    "        else:\n",
    "            to_use = set(genres[genre]).intersection(to_use)\n",
    "    if style is not None:\n",
    "        if to_use is None:\n",
    "            to_use = set(styles[style])\n",
    "        else:\n",
    "            to_use = set(styles[style]).intersection(to_use)\n",
    "    \n",
    "    print('Computing disruption!')\n",
    "    G = build_graph(json_data, to_use, restrictive=restrictive)\n",
    "    disrupt = compute_disruption(G, min_in, min_out)\n",
    "    disrupt = disrupt.dropna()\n",
    "    \n",
    "    diffs = []\n",
    "    for ni, nj, nk in disrupt.values[:, :-1]:\n",
    "        total = ni + nj + nk\n",
    "        D = np.random.dirichlet([1 + ni, 1 + nj, 1+nk], size=10000)\n",
    "        pos_i = D[:, 0]\n",
    "        pos_j = D[:, 1]\n",
    "        diff = pos_i - pos_j\n",
    "        diffs.append(diff)\n",
    "    \n",
    "    \n",
    "    disrupt['name'] = [json_data[id_]['name'] for id_ in disrupt.index]\n",
    "    posteriors = pd.DataFrame(diffs, index=disrupt.index)\n",
    "    posteriors['name'] = disrupt['name']\n",
    "    if to_use:\n",
    "        disrupt = disrupt.loc[disrupt.index.isin(to_use)]\n",
    "        posteriors = posteriors.loc[posteriors.index.isin(to_use)]\n",
    "        \n",
    "    return disrupt, posteriors"
   ]
  },
  {
   "cell_type": "code",
   "execution_count": 8,
   "metadata": {},
   "outputs": [
    {
     "data": {
      "application/vnd.jupyter.widget-view+json": {
       "model_id": "43e6800d2d0f434abda1038bf4385a15",
       "version_major": 2,
       "version_minor": 0
      },
      "text/plain": [
       "interactive(children=(Dropdown(description='initial_decade', options=(None, 1890, 1900, 1910, 1920, 1930, 1940…"
      ]
     },
     "metadata": {},
     "output_type": "display_data"
    }
   ],
   "source": [
    "from ipywidgets import interact_manual\n",
    "\n",
    "decade_options = [None] + list(sorted(decades.keys()))\n",
    "genre_options = [None] + list(sorted(genres.keys()))\n",
    "style_options = [None] + list(sorted(styles.keys()))\n",
    "\n",
    "@interact_manual\n",
    "def interactive_rank(initial_decade=decade_options,\n",
    "                     genre=genre_options,\n",
    "                     style=style_options,\n",
    "                     min_in=[1, 2, 3, 4, 5],\n",
    "                     min_out=[0, 1, 2, 3, 4, 5],\n",
    "                     restrictive=False):\n",
    "    \n",
    "    disruption, posterior = rank_nodes(initial_decade, genre, style,\n",
    "                                       min_in, min_out, restrictive)\n",
    "    positive = disruption[disruption['disruption'] > 0]\n",
    "    negative = disruption[disruption['disruption'] < 0]\n",
    "    top = positive.nlargest(10, ['disruption'])\n",
    "    bottom = negative.nsmallest(10, ['disruption'])\n",
    "    \n",
    "    top_plot = posterior.loc[top.index]\n",
    "    bottom_plot = posterior.loc[bottom.index]\n",
    "    names_top = top_plot['name']\n",
    "    names_bottom = bottom_plot['name']\n",
    "    del top_plot['name']\n",
    "    del bottom_plot['name']\n",
    "    \n",
    "    top_plot = pd.DataFrame(top_plot.T.values, columns=names_top)\n",
    "    bottom_plot = pd.DataFrame(bottom_plot.T.values, columns=names_bottom)\n",
    "    \n",
    "    axes = top_plot.plot.kde(subplots=True, color='magenta')\n",
    "    for ax in axes:\n",
    "        despine(ax)\n",
    "        leg = ax.legend(loc='upper left', frameon=False)\n",
    "        for item in leg.legendHandles:\n",
    "            item.set_visible(False)\n",
    "        ax.set_xlim((-1, 1))\n",
    "        ax.set_xlabel('Posterior Disruption')\n",
    "    plt.tight_layout()\n",
    "    plt.show()\n",
    "    plt.close()\n",
    "    \n",
    "    axes = bottom_plot.plot.kde(subplots=True, color='magenta')\n",
    "    for ax in axes:\n",
    "        despine(ax)\n",
    "        leg = ax.legend(loc='upper left', frameon=False)\n",
    "        for item in leg.legendHandles:\n",
    "            item.set_visible(False)\n",
    "        ax.set_xlim((-1, 1))\n",
    "        ax.set_xlabel('Posterior Disruption')\n",
    "    plt.tight_layout()"
   ]
  },
  {
   "cell_type": "code",
   "execution_count": null,
   "metadata": {},
   "outputs": [],
   "source": []
  },
  {
   "cell_type": "code",
   "execution_count": null,
   "metadata": {},
   "outputs": [],
   "source": []
  }
 ],
 "metadata": {
  "kernelspec": {
   "display_name": "Python 3",
   "language": "python",
   "name": "python3"
  },
  "language_info": {
   "codemirror_mode": {
    "name": "ipython",
    "version": 3
   },
   "file_extension": ".py",
   "mimetype": "text/x-python",
   "name": "python",
   "nbconvert_exporter": "python",
   "pygments_lexer": "ipython3",
   "version": "3.6.8"
  }
 },
 "nbformat": 4,
 "nbformat_minor": 2
}
