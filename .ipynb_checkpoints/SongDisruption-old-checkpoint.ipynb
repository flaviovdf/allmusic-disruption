{
 "cells": [
  {
   "cell_type": "code",
   "execution_count": 1,
   "metadata": {},
   "outputs": [],
   "source": [
    "# -*- coding: utf8\n",
    "\n",
    "import sys\n",
    "sys.path.append('../code/')"
   ]
  },
  {
   "cell_type": "code",
   "execution_count": 2,
   "metadata": {},
   "outputs": [],
   "source": [
    "from amutils import build_graph\n",
    "from amutils import build_reverse_index\n",
    "from amutils import load_am_json_data\n",
    "\n",
    "from scipy.stats import kendalltau\n",
    "from scipy.stats import pearsonr\n",
    "from scipy.stats import spearmanr\n",
    "\n",
    "from sklearn.metrics.pairwise import rbf_kernel\n",
    "\n",
    "import numpy as np\n",
    "import pandas as pd"
   ]
  },
  {
   "cell_type": "code",
   "execution_count": 12,
   "metadata": {},
   "outputs": [],
   "source": [
    "json_data = load_am_json_data('../data/artists.json.gz')\n",
    "feats_df =  pd.read_csv('../data/deep_features.csv', index_col=0)\n",
    "names_df = pd.read_csv('../data/billboard-to-spotify-songs.csv', index_col=0).dropna()\n",
    "names_df = names_df[['track_id_spf', 'track_name_bb', 'artist_name_bb']]"
   ]
  },
  {
   "cell_type": "code",
   "execution_count": 4,
   "metadata": {},
   "outputs": [],
   "source": [
    "S = rbf_kernel(feats_df, gamma=0.5)\n",
    "S = pd.DataFrame(S, index=feats_df.index, columns=feats_df.index.values)"
   ]
  },
  {
   "cell_type": "code",
   "execution_count": 5,
   "metadata": {},
   "outputs": [],
   "source": [
    "store = pd.HDFStore('../cache/dt_matrices.h5')\n",
    "DT = store['song_dt']\n",
    "store.close()"
   ]
  },
  {
   "cell_type": "code",
   "execution_count": 6,
   "metadata": {},
   "outputs": [],
   "source": [
    "valid = S.index.intersection(DT.index)\n",
    "S = S.loc[valid]\n",
    "S = S[valid.values]\n",
    "DT = DT.loc[valid]\n",
    "DT = DT[valid.values]\n",
    "\n",
    "assert(DT.shape == S.shape)"
   ]
  },
  {
   "cell_type": "code",
   "execution_count": 7,
   "metadata": {},
   "outputs": [],
   "source": [
    "MED_RANDOM = 0.23"
   ]
  },
  {
   "cell_type": "code",
   "execution_count": 8,
   "metadata": {},
   "outputs": [],
   "source": [
    "_6M = pd.Timedelta(6, 'M').to_timedelta64().astype('timedelta64[s]').astype('f')\n",
    "A = S[DT > _6M]\n",
    "A = A[A > MED_RANDOM]\n",
    "A = A.fillna(0)"
   ]
  },
  {
   "cell_type": "code",
   "execution_count": 9,
   "metadata": {},
   "outputs": [],
   "source": [
    "reverse_index = {}\n",
    "for artist in json_data.keys():\n",
    "    reverse_index[json_data[artist]['name']] = artist"
   ]
  },
  {
   "cell_type": "code",
   "execution_count": 13,
   "metadata": {},
   "outputs": [],
   "source": [
    "song2artist = {}\n",
    "keys_to_consider = set()\n",
    "for spotify_id, _, artist in names_df.values:\n",
    "    if artist in reverse_index:\n",
    "        song2artist[spotify_id] = artist\n",
    "        keys_to_consider.add(reverse_index[artist])"
   ]
  },
  {
   "cell_type": "code",
   "execution_count": 11,
   "metadata": {},
   "outputs": [],
   "source": [
    "graph = set()\n",
    "for row in A.index.values:\n",
    "    edges = A.loc[row]\n",
    "    edges = edges[edges > 0]\n",
    "    for col in edges.index.values:\n",
    "        if row in song2artist and col in song2artist:\n",
    "            src_id = reverse_index[song2artist[row]]\n",
    "            by_id = reverse_index[song2artist[col]]\n",
    "            if src_id in keys_to_consider and by_id in keys_to_consider:\n",
    "                graph.add((src_id, by_id))"
   ]
  },
  {
   "cell_type": "code",
   "execution_count": 12,
   "metadata": {},
   "outputs": [],
   "source": [
    "def extract_id(txt):\n",
    "    pos = txt.rfind('mn')\n",
    "    return txt[pos:pos+12]\n",
    "\n",
    "intersection = set()\n",
    "for artist in keys_to_consider:\n",
    "    by_set = set(map(extract_id, json_data[artist]['influencer']))\n",
    "    for by in by_set:\n",
    "        if artist in keys_to_consider and by in keys_to_consider:\n",
    "            intersection.add(artist)\n",
    "            intersection.add(by)"
   ]
  },
  {
   "cell_type": "code",
   "execution_count": 13,
   "metadata": {},
   "outputs": [],
   "source": [
    "GT = nx.DiGraph()\n",
    "for artist in intersection:\n",
    "    by_set = set(map(extract_id, json_data[artist]['influencer']))\n",
    "    for by in by_set:\n",
    "        if by in intersection:\n",
    "            GT.add_edge(artist, by)"
   ]
  },
  {
   "cell_type": "code",
   "execution_count": 14,
   "metadata": {},
   "outputs": [],
   "source": [
    "GN = nx.DiGraph()\n",
    "for src, by in graph:\n",
    "    if src in GT.nodes and by in GT.nodes:\n",
    "        GN.add_edge(src, by)"
   ]
  },
  {
   "cell_type": "code",
   "execution_count": 15,
   "metadata": {},
   "outputs": [],
   "source": [
    "GT = nx.DiGraph()\n",
    "for artist in GN.nodes:\n",
    "    data = json_data[artist]\n",
    "    by_set = set(map(extract_id, json_data[artist]['influencer']))\n",
    "    for by in by_set:\n",
    "        if by in GN.nodes:\n",
    "            GT.add_edge(artist, by)"
   ]
  },
  {
   "cell_type": "code",
   "execution_count": 16,
   "metadata": {},
   "outputs": [],
   "source": [
    "GN = nx.DiGraph()\n",
    "for src, by in graph:\n",
    "    if src in GT.nodes and by in GT.nodes:\n",
    "        GN.add_edge(src_id, by_id)"
   ]
  },
  {
   "cell_type": "code",
   "execution_count": 17,
   "metadata": {},
   "outputs": [
    {
     "data": {
      "text/plain": [
       "2"
      ]
     },
     "execution_count": 17,
     "metadata": {},
     "output_type": "execute_result"
    }
   ],
   "source": [
    "len(GN)"
   ]
  },
  {
   "cell_type": "code",
   "execution_count": 18,
   "metadata": {},
   "outputs": [
    {
     "data": {
      "text/plain": [
       "1242"
      ]
     },
     "execution_count": 18,
     "metadata": {},
     "output_type": "execute_result"
    }
   ],
   "source": [
    "len(GT)"
   ]
  },
  {
   "cell_type": "code",
   "execution_count": 19,
   "metadata": {},
   "outputs": [],
   "source": [
    "def compute_disruption(G):\n",
    "\n",
    "    id_to_node = dict((i, n) for i, n in enumerate(G.nodes))\n",
    "    in_count = dict(G.in_degree(G.nodes))\n",
    "    out_count = dict(G.out_degree(G.nodes))\n",
    "    \n",
    "    F = nx.to_scipy_sparse_matrix(G, format='csr')\n",
    "    T = nx.to_scipy_sparse_matrix(G, format='csc')\n",
    "    D = np.zeros(shape=(F.shape[0], 4))\n",
    "\n",
    "    for node_id in range(F.shape[0]):\n",
    "        if in_count[id_to_node[node_id]] >= 1:\n",
    "            ni = 0\n",
    "            nj = 0\n",
    "            nk = 0\n",
    "\n",
    "            outgoing = F[node_id].nonzero()[1]\n",
    "            incoming = T[:, node_id].nonzero()[0]\n",
    "            outgoing_set = set(outgoing)\n",
    "\n",
    "            for other_id in incoming:\n",
    "                second_level = F[other_id].nonzero()[1]\n",
    "                if len(outgoing_set.intersection(second_level)) == 0:\n",
    "                    ni += 1\n",
    "                else:\n",
    "                    nj += 1\n",
    "\n",
    "            # who mentions my influences\n",
    "            who_mentions_my_influences = np.unique(T[:, outgoing].nonzero()[0])\n",
    "            for other_id in who_mentions_my_influences:\n",
    "                if F[other_id, node_id] == 0:  # do they mention me?! if no, add nk\n",
    "                    nk += 1\n",
    "\n",
    "            D[node_id, 0] = ni\n",
    "            D[node_id, 1] = nj\n",
    "            D[node_id, 2] = nk\n",
    "            D[node_id, 3] = (ni - nj) / (ni + nj + nk)\n",
    "        else:\n",
    "            D[node_id, 0] = np.nan\n",
    "            D[node_id, 1] = np.nan\n",
    "            D[node_id, 2] = np.nan\n",
    "            D[node_id, 3] = np.nan\n",
    "            \n",
    "    return pd.DataFrame(D, index=G.nodes, columns=['ni', 'nj', 'nk', 'disruption'])"
   ]
  },
  {
   "cell_type": "code",
   "execution_count": 20,
   "metadata": {},
   "outputs": [],
   "source": [
    "d_gn = compute_disruption(GN)\n",
    "d_gt = compute_disruption(GT)"
   ]
  },
  {
   "cell_type": "code",
   "execution_count": 21,
   "metadata": {},
   "outputs": [
    {
     "data": {
      "text/html": [
       "<div>\n",
       "<style scoped>\n",
       "    .dataframe tbody tr th:only-of-type {\n",
       "        vertical-align: middle;\n",
       "    }\n",
       "\n",
       "    .dataframe tbody tr th {\n",
       "        vertical-align: top;\n",
       "    }\n",
       "\n",
       "    .dataframe thead th {\n",
       "        text-align: right;\n",
       "    }\n",
       "</style>\n",
       "<table border=\"1\" class=\"dataframe\">\n",
       "  <thead>\n",
       "    <tr style=\"text-align: right;\">\n",
       "      <th></th>\n",
       "      <th>ni</th>\n",
       "      <th>nj</th>\n",
       "      <th>nk</th>\n",
       "      <th>disruption</th>\n",
       "    </tr>\n",
       "  </thead>\n",
       "  <tbody>\n",
       "    <tr>\n",
       "      <th>mn0000409670</th>\n",
       "      <td>NaN</td>\n",
       "      <td>NaN</td>\n",
       "      <td>NaN</td>\n",
       "      <td>NaN</td>\n",
       "    </tr>\n",
       "    <tr>\n",
       "      <th>mn0002009123</th>\n",
       "      <td>1.0</td>\n",
       "      <td>0.0</td>\n",
       "      <td>0.0</td>\n",
       "      <td>1.0</td>\n",
       "    </tr>\n",
       "  </tbody>\n",
       "</table>\n",
       "</div>"
      ],
      "text/plain": [
       "               ni   nj   nk  disruption\n",
       "mn0000409670  NaN  NaN  NaN         NaN\n",
       "mn0002009123  1.0  0.0  0.0         1.0"
      ]
     },
     "execution_count": 21,
     "metadata": {},
     "output_type": "execute_result"
    }
   ],
   "source": [
    "d_gn.head()"
   ]
  },
  {
   "cell_type": "code",
   "execution_count": 22,
   "metadata": {},
   "outputs": [
    {
     "data": {
      "text/html": [
       "<div>\n",
       "<style scoped>\n",
       "    .dataframe tbody tr th:only-of-type {\n",
       "        vertical-align: middle;\n",
       "    }\n",
       "\n",
       "    .dataframe tbody tr th {\n",
       "        vertical-align: top;\n",
       "    }\n",
       "\n",
       "    .dataframe thead th {\n",
       "        text-align: right;\n",
       "    }\n",
       "</style>\n",
       "<table border=\"1\" class=\"dataframe\">\n",
       "  <thead>\n",
       "    <tr style=\"text-align: right;\">\n",
       "      <th></th>\n",
       "      <th>ni</th>\n",
       "      <th>nj</th>\n",
       "      <th>nk</th>\n",
       "      <th>disruption</th>\n",
       "    </tr>\n",
       "  </thead>\n",
       "  <tbody>\n",
       "    <tr>\n",
       "      <th>mn0000935330</th>\n",
       "      <td>3.0</td>\n",
       "      <td>3.0</td>\n",
       "      <td>75.0</td>\n",
       "      <td>0.000000</td>\n",
       "    </tr>\n",
       "    <tr>\n",
       "      <th>mn0000884962</th>\n",
       "      <td>0.0</td>\n",
       "      <td>2.0</td>\n",
       "      <td>28.0</td>\n",
       "      <td>-0.066667</td>\n",
       "    </tr>\n",
       "    <tr>\n",
       "      <th>mn0000606283</th>\n",
       "      <td>1.0</td>\n",
       "      <td>0.0</td>\n",
       "      <td>12.0</td>\n",
       "      <td>0.076923</td>\n",
       "    </tr>\n",
       "    <tr>\n",
       "      <th>mn0000279337</th>\n",
       "      <td>5.0</td>\n",
       "      <td>2.0</td>\n",
       "      <td>86.0</td>\n",
       "      <td>0.032258</td>\n",
       "    </tr>\n",
       "    <tr>\n",
       "      <th>mn0000290072</th>\n",
       "      <td>9.0</td>\n",
       "      <td>8.0</td>\n",
       "      <td>165.0</td>\n",
       "      <td>0.005495</td>\n",
       "    </tr>\n",
       "  </tbody>\n",
       "</table>\n",
       "</div>"
      ],
      "text/plain": [
       "               ni   nj     nk  disruption\n",
       "mn0000935330  3.0  3.0   75.0    0.000000\n",
       "mn0000884962  0.0  2.0   28.0   -0.066667\n",
       "mn0000606283  1.0  0.0   12.0    0.076923\n",
       "mn0000279337  5.0  2.0   86.0    0.032258\n",
       "mn0000290072  9.0  8.0  165.0    0.005495"
      ]
     },
     "execution_count": 22,
     "metadata": {},
     "output_type": "execute_result"
    }
   ],
   "source": [
    "d_gt.head()"
   ]
  },
  {
   "cell_type": "code",
   "execution_count": 23,
   "metadata": {},
   "outputs": [],
   "source": [
    "from scipy.stats import pearsonr, kendalltau, spearmanr"
   ]
  },
  {
   "cell_type": "code",
   "execution_count": 24,
   "metadata": {},
   "outputs": [],
   "source": [
    "x = d_gn['disruption'].fillna(0)\n",
    "y = d_gt['disruption'].fillna(0)"
   ]
  },
  {
   "cell_type": "code",
   "execution_count": 25,
   "metadata": {},
   "outputs": [
    {
     "ename": "ValueError",
     "evalue": "operands could not be broadcast together with shapes (2,) (1242,) ",
     "output_type": "error",
     "traceback": [
      "\u001b[0;31m---------------------------------------------------------------------------\u001b[0m",
      "\u001b[0;31mValueError\u001b[0m                                Traceback (most recent call last)",
      "\u001b[0;32m<ipython-input-25-749d2555f9e0>\u001b[0m in \u001b[0;36m<module>\u001b[0;34m\u001b[0m\n\u001b[0;32m----> 1\u001b[0;31m \u001b[0mpearsonr\u001b[0m\u001b[0;34m(\u001b[0m\u001b[0mx\u001b[0m\u001b[0;34m,\u001b[0m \u001b[0my\u001b[0m\u001b[0;34m)\u001b[0m\u001b[0;34m\u001b[0m\u001b[0;34m\u001b[0m\u001b[0m\n\u001b[0m",
      "\u001b[0;32m/Users/flaviov/anaconda3/lib/python3.6/site-packages/scipy/stats/stats.py\u001b[0m in \u001b[0;36mpearsonr\u001b[0;34m(x, y)\u001b[0m\n\u001b[1;32m   2999\u001b[0m     \u001b[0mmy\u001b[0m \u001b[0;34m=\u001b[0m \u001b[0my\u001b[0m\u001b[0;34m.\u001b[0m\u001b[0mmean\u001b[0m\u001b[0;34m(\u001b[0m\u001b[0;34m)\u001b[0m\u001b[0;34m\u001b[0m\u001b[0;34m\u001b[0m\u001b[0m\n\u001b[1;32m   3000\u001b[0m     \u001b[0mxm\u001b[0m\u001b[0;34m,\u001b[0m \u001b[0mym\u001b[0m \u001b[0;34m=\u001b[0m \u001b[0mx\u001b[0m \u001b[0;34m-\u001b[0m \u001b[0mmx\u001b[0m\u001b[0;34m,\u001b[0m \u001b[0my\u001b[0m \u001b[0;34m-\u001b[0m \u001b[0mmy\u001b[0m\u001b[0;34m\u001b[0m\u001b[0;34m\u001b[0m\u001b[0m\n\u001b[0;32m-> 3001\u001b[0;31m     \u001b[0mr_num\u001b[0m \u001b[0;34m=\u001b[0m \u001b[0mnp\u001b[0m\u001b[0;34m.\u001b[0m\u001b[0madd\u001b[0m\u001b[0;34m.\u001b[0m\u001b[0mreduce\u001b[0m\u001b[0;34m(\u001b[0m\u001b[0mxm\u001b[0m \u001b[0;34m*\u001b[0m \u001b[0mym\u001b[0m\u001b[0;34m)\u001b[0m\u001b[0;34m\u001b[0m\u001b[0;34m\u001b[0m\u001b[0m\n\u001b[0m\u001b[1;32m   3002\u001b[0m     \u001b[0mr_den\u001b[0m \u001b[0;34m=\u001b[0m \u001b[0mnp\u001b[0m\u001b[0;34m.\u001b[0m\u001b[0msqrt\u001b[0m\u001b[0;34m(\u001b[0m\u001b[0m_sum_of_squares\u001b[0m\u001b[0;34m(\u001b[0m\u001b[0mxm\u001b[0m\u001b[0;34m)\u001b[0m \u001b[0;34m*\u001b[0m \u001b[0m_sum_of_squares\u001b[0m\u001b[0;34m(\u001b[0m\u001b[0mym\u001b[0m\u001b[0;34m)\u001b[0m\u001b[0;34m)\u001b[0m\u001b[0;34m\u001b[0m\u001b[0;34m\u001b[0m\u001b[0m\n\u001b[1;32m   3003\u001b[0m     \u001b[0mr\u001b[0m \u001b[0;34m=\u001b[0m \u001b[0mr_num\u001b[0m \u001b[0;34m/\u001b[0m \u001b[0mr_den\u001b[0m\u001b[0;34m\u001b[0m\u001b[0;34m\u001b[0m\u001b[0m\n",
      "\u001b[0;31mValueError\u001b[0m: operands could not be broadcast together with shapes (2,) (1242,) "
     ]
    }
   ],
   "source": [
    "pearsonr(x, y)"
   ]
  },
  {
   "cell_type": "code",
   "execution_count": null,
   "metadata": {},
   "outputs": [],
   "source": [
    "kendalltau(x, y)"
   ]
  },
  {
   "cell_type": "code",
   "execution_count": null,
   "metadata": {},
   "outputs": [],
   "source": [
    "spearmanr(x, y)"
   ]
  },
  {
   "cell_type": "code",
   "execution_count": null,
   "metadata": {},
   "outputs": [],
   "source": [
    "d_gn"
   ]
  },
  {
   "cell_type": "code",
   "execution_count": null,
   "metadata": {},
   "outputs": [],
   "source": []
  }
 ],
 "metadata": {
  "kernelspec": {
   "display_name": "Python 3",
   "language": "python",
   "name": "python3"
  },
  "language_info": {
   "codemirror_mode": {
    "name": "ipython",
    "version": 3
   },
   "file_extension": ".py",
   "mimetype": "text/x-python",
   "name": "python",
   "nbconvert_exporter": "python",
   "pygments_lexer": "ipython3",
   "version": "3.6.8"
  }
 },
 "nbformat": 4,
 "nbformat_minor": 2
}
