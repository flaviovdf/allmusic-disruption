{
 "cells": [
  {
   "cell_type": "markdown",
   "metadata": {},
   "source": [
    "# Code to Reproduce our ISMIR 2019 Paper\n",
    "\n",
    "## How to Run\n",
    "\n",
    "Install the following packages. An anaconda release should have everything.\n",
    "1. ipywidgets -- https://ipywidgets.readthedocs.io/en/stable/\n",
    "1. matplotlib\n",
    "1. numpy\n",
    "1. pandas\n",
    "\n",
    "Then execute the cells of this notebook. In the end, you will have an widget to explore the disruption graph. The auxiliary code is in the `code` folder.\n",
    "\n",
    "## Plots\n",
    "\n",
    "The plots show the top 10 positive and negative disruptive nodes. Each plot is a KDE on the posterior.\n",
    "\n",
    "## Files\n",
    "\n",
    "The `cache` folder will contain csvs to explore with R or Python for each option of the widget.\n",
    "\n",
    "## Preamble Code\n",
    "\n",
    "The next few cells simply set's up the environment. Just execute them."
   ]
  },
  {
   "cell_type": "code",
   "execution_count": 1,
   "metadata": {},
   "outputs": [],
   "source": [
    "# -*- coding: utf8\n",
    "\n",
    "import sys\n",
    "sys.path.append('../code/')"
   ]
  },
  {
   "cell_type": "code",
   "execution_count": 2,
   "metadata": {},
   "outputs": [],
   "source": [
    "from amutils import build_graph\n",
    "from amutils import build_reverse_index\n",
    "from amutils import load_am_json_data\n",
    "\n",
    "from disrupt import compute_disruption\n",
    "\n",
    "import ipywidgets as widgets\n",
    "import matplotlib.pyplot as plt\n",
    "import numpy as np\n",
    "import os\n",
    "import pandas as pd"
   ]
  },
  {
   "cell_type": "code",
   "execution_count": 3,
   "metadata": {},
   "outputs": [],
   "source": [
    "plt.rcParams['figure.figsize']  = (18, 10)\n",
    "plt.rcParams['axes.labelsize']  = 16\n",
    "plt.rcParams['axes.titlesize']  = 16\n",
    "plt.rcParams['legend.fontsize'] = 16\n",
    "plt.rcParams['xtick.labelsize'] = 16\n",
    "plt.rcParams['ytick.labelsize'] = 16\n",
    "plt.rcParams['lines.linewidth'] = 2"
   ]
  },
  {
   "cell_type": "code",
   "execution_count": 4,
   "metadata": {},
   "outputs": [],
   "source": [
    "plt.ion()\n",
    "\n",
    "plt.style.use('seaborn-colorblind')\n",
    "plt.rcParams['figure.figsize']  = (12, 8)"
   ]
  },
  {
   "cell_type": "code",
   "execution_count": 5,
   "metadata": {},
   "outputs": [],
   "source": [
    "def despine(ax=None):\n",
    "    if ax is None:\n",
    "        ax = plt.gca()\n",
    "    # Hide the right and top spines\n",
    "    ax.spines['right'].set_visible(False)\n",
    "    ax.spines['top'].set_visible(False)\n",
    "    ax.spines['left'].set_visible(False)\n",
    "\n",
    "    # Only show ticks on the left and bottom spines\n",
    "    ax.yaxis.set_ticks_position('left')\n",
    "    ax.xaxis.set_ticks_position('bottom')\n",
    "    ax.axes.get_yaxis().set_visible(False)"
   ]
  },
  {
   "cell_type": "code",
   "execution_count": 6,
   "metadata": {},
   "outputs": [],
   "source": [
    "json_data = load_am_json_data()\n",
    "decades, genres, styles = build_reverse_index(json_data)"
   ]
  },
  {
   "cell_type": "code",
   "execution_count": 7,
   "metadata": {},
   "outputs": [],
   "source": [
    "if not os.path.exists('cache'):\n",
    "    os.mkdir('cache')\n",
    "if not os.path.exists('cache/disrupt-artists-csvs/'):\n",
    "    os.mkdir('cache/disrupt-artists-csvs/')"
   ]
  },
  {
   "cell_type": "markdown",
   "metadata": {},
   "source": [
    "## Bayesian Disruption\n",
    "\n",
    "The constant belo defines our prior. In python, posterion disruption is computed as:\n",
    "\n",
    "```python\n",
    "# with ni, nj and nk defined\n",
    "import numpy as np\n",
    "D = np.random.dirichlet([PRIOR + ni,\n",
    "                         PRIOR + nj,\n",
    "                         PRIOR + nk], size=10000)\n",
    "disruption_per_sample = D[:, 0] - D[:, 1]\n",
    "```"
   ]
  },
  {
   "cell_type": "code",
   "execution_count": 8,
   "metadata": {},
   "outputs": [],
   "source": [
    "PRIOR = 10"
   ]
  },
  {
   "cell_type": "code",
   "execution_count": 9,
   "metadata": {},
   "outputs": [],
   "source": [
    "def rank_nodes(decade=None, genre=None, style=None,\n",
    "               min_in=1, min_out=1, restrictive=False):\n",
    "    to_use = None\n",
    "    if decade is not None:\n",
    "        to_use = set(decades[decade])\n",
    "    if genre is not None:\n",
    "        if to_use is None:\n",
    "            to_use = set(genres[genre])\n",
    "        else:\n",
    "            to_use = set(genres[genre]).intersection(to_use)\n",
    "    if style is not None:\n",
    "        if to_use is None:\n",
    "            to_use = set(styles[style])\n",
    "        else:\n",
    "            to_use = set(styles[style]).intersection(to_use)\n",
    "    \n",
    "    print('Computing disruption!')\n",
    "    G = build_graph(json_data, to_use, restrictive=restrictive)\n",
    "    disrupt = compute_disruption(G, min_in, min_out)\n",
    "    disrupt = disrupt.dropna()\n",
    "    cols = ['ni', 'nj', 'nk', 'disruption']\n",
    "    \n",
    "    diffs = []\n",
    "    confidences = []\n",
    "    for ni, nj, nk, disruption in disrupt[cols].values:\n",
    "        D = np.random.dirichlet([PRIOR + ni,\n",
    "                                 PRIOR + nj,\n",
    "                                 PRIOR + nk], size=10000)\n",
    "        pos_i = D[:, 0]\n",
    "        pos_j = D[:, 1]\n",
    "        if disruption <= 0:\n",
    "            confidence = ((D[:, 0] - D[:, 1]) < 0).mean()\n",
    "        else:\n",
    "            confidence = ((D[:, 0] - D[:, 1]) > 0).mean()\n",
    "        confidences.append(confidence)\n",
    "        diff = pos_i - pos_j\n",
    "        diffs.append(diff)\n",
    "    \n",
    "    \n",
    "    disrupt['name'] = [json_data[id_]['name'] for id_ in disrupt.index]\n",
    "    disrupt['confidence'] = confidences\n",
    "    posteriors = pd.DataFrame(diffs, index=disrupt.index)\n",
    "    posteriors['name'] = disrupt['name']\n",
    "    posteriors['confidence'] = confidences\n",
    "    if to_use:\n",
    "        disrupt = disrupt.loc[disrupt.index.isin(to_use)]\n",
    "        posteriors = posteriors.loc[posteriors.index.isin(to_use)]\n",
    "        \n",
    "    return disrupt, posteriors"
   ]
  },
  {
   "cell_type": "markdown",
   "metadata": {},
   "source": [
    "## Nice Little Widget\n",
    "\n",
    "Below we have our widget. The options are:\n",
    "\n",
    "1. initial_decade -> compute disruption for artists which began releasing work in this decade.\n",
    "1. genre -> compute disruption for artists with this genre (first on the allmusic list).\n",
    "1. style -> same as genre\n",
    "1. min_in -> consider only nodes with this in_degree  (they can still be influenced by nodes that do not match this criterion)\n",
    "1. min_out -> consider only nodes with this out_degree (they can still be influenced by nodes that do not match this criterion)\n",
    "1. confidence -> filter out samples where the bayesian credible interval are below this confidence.\n",
    "1. restrictive -> not used in the paper, but this may be used to consider only a subgraph. That is, compute disruption of 1940s Jazz artists considering that only these artists exist. Usually fails on small graphs. Most useful for genres: Subset jazz, or subset pop/rock."
   ]
  },
  {
   "cell_type": "code",
   "execution_count": 10,
   "metadata": {},
   "outputs": [
    {
     "data": {
      "application/vnd.jupyter.widget-view+json": {
       "model_id": "3d3f029a3a814f78b6f6ab4c0a2aa555",
       "version_major": 2,
       "version_minor": 0
      },
      "text/plain": [
       "interactive(children=(Dropdown(description='initial_decade', options=(None, 1890, 1900, 1910, 1920, 1930, 1940…"
      ]
     },
     "metadata": {},
     "output_type": "display_data"
    }
   ],
   "source": [
    "from ipywidgets import interact_manual\n",
    "\n",
    "decade_options = [None] + list(sorted(decades.keys()))\n",
    "genre_options = [None] + list(sorted(genres.keys()))\n",
    "style_options = [None] + list(sorted(styles.keys()))\n",
    "\n",
    "@interact_manual\n",
    "def interactive_rank(initial_decade=decade_options,\n",
    "                     genre=genre_options,\n",
    "                     style=style_options,\n",
    "                     min_in=[1, 2, 3, 4, 5],\n",
    "                     min_out=[1, 2, 3, 4, 5],\n",
    "                     confidence=0.95,\n",
    "                     restrictive=False):\n",
    "    \n",
    "    disruption, posterior = rank_nodes(initial_decade, genre, style,\n",
    "                                       min_in, min_out, restrictive)\n",
    "    name = 'decade-{}-genre-{}-style-{}-min_in-{}-min_out-{}-restrictive-{}'\n",
    "    name = name.format(initial_decade, genre, style, min_in, min_out, restrictive)\n",
    "    name = name.replace('/', '-')\n",
    "    \n",
    "    disruption.to_csv('cache/disrupt-artists-csvs/' + name + '.disrupt')\n",
    "    \n",
    "    disruption = disruption[disruption['confidence'] > confidence]\n",
    "    posterior = posterior[posterior['confidence'] > confidence]\n",
    "    \n",
    "    positive = disruption[disruption['disruption'] > 0]\n",
    "    negative = disruption[disruption['disruption'] < 0]\n",
    "    top = positive.nlargest(10, ['disruption'])\n",
    "    bottom = negative.nsmallest(10, ['disruption'])\n",
    "    \n",
    "    top_plot = posterior.loc[top.index]\n",
    "    bottom_plot = posterior.loc[bottom.index]\n",
    "    names_top = top_plot['name']\n",
    "    names_bottom = bottom_plot['name']\n",
    "    del top_plot['name']\n",
    "    del bottom_plot['name']\n",
    "        \n",
    "    top_plot = pd.DataFrame(top_plot.T.values, columns=names_top)\n",
    "    if top_plot.shape[1] > 0:\n",
    "        axes = top_plot.plot.kde(subplots=True, color='magenta')\n",
    "        for ax in axes:\n",
    "            despine(ax)\n",
    "            leg = ax.legend(loc='upper left', frameon=False)\n",
    "            for item in leg.legendHandles:\n",
    "                item.set_visible(False)\n",
    "            ax.set_xlim((-1, 1))\n",
    "            ax.set_xlabel('Posterior Disruption')\n",
    "        plt.tight_layout()\n",
    "        plt.show()\n",
    "        plt.close()\n",
    "    else:\n",
    "        print('No positive disruption')\n",
    "    \n",
    "    bottom_plot = pd.DataFrame(bottom_plot.T.values, columns=names_bottom)\n",
    "    if bottom_plot.shape[1] > 0:\n",
    "        axes = bottom_plot.plot.kde(subplots=True, color='magenta')\n",
    "        for ax in axes:\n",
    "            despine(ax)\n",
    "            leg = ax.legend(loc='upper left', frameon=False)\n",
    "            for item in leg.legendHandles:\n",
    "                item.set_visible(False)\n",
    "            ax.set_xlim((-1, 1))\n",
    "            ax.set_xlabel('Posterior Disruption')\n",
    "        plt.tight_layout()\n",
    "    else:\n",
    "        print('No negative disruption')"
   ]
  },
  {
   "cell_type": "code",
   "execution_count": null,
   "metadata": {},
   "outputs": [],
   "source": []
  },
  {
   "cell_type": "code",
   "execution_count": null,
   "metadata": {},
   "outputs": [],
   "source": []
  }
 ],
 "metadata": {
  "kernelspec": {
   "display_name": "Python 3",
   "language": "python",
   "name": "python3"
  },
  "language_info": {
   "codemirror_mode": {
    "name": "ipython",
    "version": 3
   },
   "file_extension": ".py",
   "mimetype": "text/x-python",
   "name": "python",
   "nbconvert_exporter": "python",
   "pygments_lexer": "ipython3",
   "version": "3.6.8"
  }
 },
 "nbformat": 4,
 "nbformat_minor": 2
}
